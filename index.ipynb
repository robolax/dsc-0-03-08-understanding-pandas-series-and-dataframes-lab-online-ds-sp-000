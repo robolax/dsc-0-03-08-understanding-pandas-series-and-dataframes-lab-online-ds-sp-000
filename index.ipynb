{
 "cells": [
  {
   "cell_type": "markdown",
   "metadata": {},
   "source": [
    "# Understanding Pandas Series and DataFrames - Lab"
   ]
  },
  {
   "cell_type": "markdown",
   "metadata": {},
   "source": [
    "# Introduction\n",
    "\n",
    "In this lab, let's get some hands on practice working with data cleanup using Pandas."
   ]
  },
  {
   "cell_type": "markdown",
   "metadata": {},
   "source": [
    "## Objectives\n",
    "You will be able to:\n",
    "\n",
    "* Manipulate columns in DataFrames (df.rename, df.drop)\n",
    "* Manipulate the index in DataFrames (df.reindex, df.drop, df.rename)\n",
    "* Manipulate column datatypes"
   ]
  },
  {
   "cell_type": "code",
   "execution_count": 1,
   "metadata": {},
   "outputs": [],
   "source": [
    "import pandas as pd\n",
    "import matplotlib.pyplot as plt\n",
    "%matplotlib inline"
   ]
  },
  {
   "cell_type": "code",
   "execution_count": 2,
   "metadata": {},
   "outputs": [
    {
     "name": "stdout",
     "output_type": "stream",
     "text": [
      "197625\n"
     ]
    },
    {
     "data": {
      "text/html": [
       "<div>\n",
       "<style scoped>\n",
       "    .dataframe tbody tr th:only-of-type {\n",
       "        vertical-align: middle;\n",
       "    }\n",
       "\n",
       "    .dataframe tbody tr th {\n",
       "        vertical-align: top;\n",
       "    }\n",
       "\n",
       "    .dataframe thead th {\n",
       "        text-align: right;\n",
       "    }\n",
       "</style>\n",
       "<table border=\"1\" class=\"dataframe\">\n",
       "  <thead>\n",
       "    <tr style=\"text-align: right;\">\n",
       "      <th></th>\n",
       "      <th>C/A</th>\n",
       "      <th>UNIT</th>\n",
       "      <th>SCP</th>\n",
       "      <th>STATION</th>\n",
       "      <th>LINENAME</th>\n",
       "      <th>DIVISION</th>\n",
       "      <th>DATE</th>\n",
       "      <th>TIME</th>\n",
       "      <th>DESC</th>\n",
       "      <th>ENTRIES</th>\n",
       "      <th>EXITS</th>\n",
       "    </tr>\n",
       "  </thead>\n",
       "  <tbody>\n",
       "    <tr>\n",
       "      <th>0</th>\n",
       "      <td>A002</td>\n",
       "      <td>R051</td>\n",
       "      <td>02-00-00</td>\n",
       "      <td>59 ST</td>\n",
       "      <td>NQR456W</td>\n",
       "      <td>BMT</td>\n",
       "      <td>08/25/2018</td>\n",
       "      <td>00:00:00</td>\n",
       "      <td>REGULAR</td>\n",
       "      <td>6736067</td>\n",
       "      <td>2283184</td>\n",
       "    </tr>\n",
       "    <tr>\n",
       "      <th>1</th>\n",
       "      <td>A002</td>\n",
       "      <td>R051</td>\n",
       "      <td>02-00-00</td>\n",
       "      <td>59 ST</td>\n",
       "      <td>NQR456W</td>\n",
       "      <td>BMT</td>\n",
       "      <td>08/25/2018</td>\n",
       "      <td>04:00:00</td>\n",
       "      <td>REGULAR</td>\n",
       "      <td>6736087</td>\n",
       "      <td>2283188</td>\n",
       "    </tr>\n",
       "    <tr>\n",
       "      <th>2</th>\n",
       "      <td>A002</td>\n",
       "      <td>R051</td>\n",
       "      <td>02-00-00</td>\n",
       "      <td>59 ST</td>\n",
       "      <td>NQR456W</td>\n",
       "      <td>BMT</td>\n",
       "      <td>08/25/2018</td>\n",
       "      <td>08:00:00</td>\n",
       "      <td>REGULAR</td>\n",
       "      <td>6736105</td>\n",
       "      <td>2283229</td>\n",
       "    </tr>\n",
       "    <tr>\n",
       "      <th>3</th>\n",
       "      <td>A002</td>\n",
       "      <td>R051</td>\n",
       "      <td>02-00-00</td>\n",
       "      <td>59 ST</td>\n",
       "      <td>NQR456W</td>\n",
       "      <td>BMT</td>\n",
       "      <td>08/25/2018</td>\n",
       "      <td>12:00:00</td>\n",
       "      <td>REGULAR</td>\n",
       "      <td>6736180</td>\n",
       "      <td>2283314</td>\n",
       "    </tr>\n",
       "    <tr>\n",
       "      <th>4</th>\n",
       "      <td>A002</td>\n",
       "      <td>R051</td>\n",
       "      <td>02-00-00</td>\n",
       "      <td>59 ST</td>\n",
       "      <td>NQR456W</td>\n",
       "      <td>BMT</td>\n",
       "      <td>08/25/2018</td>\n",
       "      <td>16:00:00</td>\n",
       "      <td>REGULAR</td>\n",
       "      <td>6736349</td>\n",
       "      <td>2283384</td>\n",
       "    </tr>\n",
       "  </tbody>\n",
       "</table>\n",
       "</div>"
      ],
      "text/plain": [
       "    C/A  UNIT       SCP STATION LINENAME DIVISION        DATE      TIME  \\\n",
       "0  A002  R051  02-00-00   59 ST  NQR456W      BMT  08/25/2018  00:00:00   \n",
       "1  A002  R051  02-00-00   59 ST  NQR456W      BMT  08/25/2018  04:00:00   \n",
       "2  A002  R051  02-00-00   59 ST  NQR456W      BMT  08/25/2018  08:00:00   \n",
       "3  A002  R051  02-00-00   59 ST  NQR456W      BMT  08/25/2018  12:00:00   \n",
       "4  A002  R051  02-00-00   59 ST  NQR456W      BMT  08/25/2018  16:00:00   \n",
       "\n",
       "      DESC  ENTRIES  \\\n",
       "0  REGULAR  6736067   \n",
       "1  REGULAR  6736087   \n",
       "2  REGULAR  6736105   \n",
       "3  REGULAR  6736180   \n",
       "4  REGULAR  6736349   \n",
       "\n",
       "   EXITS                                                                 \n",
       "0                                            2283184                     \n",
       "1                                            2283188                     \n",
       "2                                            2283229                     \n",
       "3                                            2283314                     \n",
       "4                                            2283384                     "
      ]
     },
     "execution_count": 2,
     "metadata": {},
     "output_type": "execute_result"
    }
   ],
   "source": [
    "df = pd.read_csv('turnstile_180901.txt')\n",
    "print(len(df))\n",
    "df.head()"
   ]
  },
  {
   "cell_type": "markdown",
   "metadata": {},
   "source": [
    "# Practice\n",
    "\n",
    "## Objectives\n",
    "You will be able to:\n",
    "* Understand and explain what Pandas Series and DataFrames are and how they differ from dictionaries and lists\n",
    "* Create Series & DataFrames from dictionaries and lists\n",
    "* Manipulate columns in DataFrames (df.rename, df.drop)\n",
    "* Manipulate the index in DataFrames (df.reindex, df.drop, df.rename)\n",
    "* Manipulate column datatypes"
   ]
  },
  {
   "cell_type": "markdown",
   "metadata": {},
   "source": [
    "# Rename all the columns to lower case"
   ]
  },
  {
   "cell_type": "code",
   "execution_count": 3,
   "metadata": {},
   "outputs": [
    {
     "data": {
      "text/plain": [
       "['c/a',\n",
       " 'unit',\n",
       " 'scp',\n",
       " 'station',\n",
       " 'linename',\n",
       " 'division',\n",
       " 'date',\n",
       " 'time',\n",
       " 'desc',\n",
       " 'entries',\n",
       " 'exits                                                               ']"
      ]
     },
     "execution_count": 3,
     "metadata": {},
     "output_type": "execute_result"
    }
   ],
   "source": [
    "new_cols = [col.lower() for col in df.columns]\n",
    "new_cols#Your code here"
   ]
  },
  {
   "cell_type": "markdown",
   "metadata": {},
   "source": [
    "# Change the Index to be the Line Names"
   ]
  },
  {
   "cell_type": "code",
   "execution_count": 4,
   "metadata": {},
   "outputs": [
    {
     "data": {
      "text/plain": [
       "<bound method NDFrame.head of             C/A  UNIT       SCP        STATION DIVISION        DATE      TIME  \\\n",
       "LINENAME                                                                        \n",
       "NQR456W    A002  R051  02-00-00          59 ST      BMT  08/25/2018  00:00:00   \n",
       "NQR456W    A002  R051  02-00-00          59 ST      BMT  08/25/2018  04:00:00   \n",
       "NQR456W    A002  R051  02-00-00          59 ST      BMT  08/25/2018  08:00:00   \n",
       "NQR456W    A002  R051  02-00-00          59 ST      BMT  08/25/2018  12:00:00   \n",
       "NQR456W    A002  R051  02-00-00          59 ST      BMT  08/25/2018  16:00:00   \n",
       "NQR456W    A002  R051  02-00-00          59 ST      BMT  08/25/2018  20:00:00   \n",
       "NQR456W    A002  R051  02-00-00          59 ST      BMT  08/26/2018  00:00:00   \n",
       "NQR456W    A002  R051  02-00-00          59 ST      BMT  08/26/2018  04:00:00   \n",
       "NQR456W    A002  R051  02-00-00          59 ST      BMT  08/26/2018  08:00:00   \n",
       "NQR456W    A002  R051  02-00-00          59 ST      BMT  08/26/2018  12:00:00   \n",
       "NQR456W    A002  R051  02-00-00          59 ST      BMT  08/26/2018  16:00:00   \n",
       "NQR456W    A002  R051  02-00-00          59 ST      BMT  08/26/2018  20:00:00   \n",
       "NQR456W    A002  R051  02-00-00          59 ST      BMT  08/27/2018  00:00:00   \n",
       "NQR456W    A002  R051  02-00-00          59 ST      BMT  08/27/2018  04:00:00   \n",
       "NQR456W    A002  R051  02-00-00          59 ST      BMT  08/27/2018  08:00:00   \n",
       "NQR456W    A002  R051  02-00-00          59 ST      BMT  08/27/2018  12:00:00   \n",
       "NQR456W    A002  R051  02-00-00          59 ST      BMT  08/27/2018  16:00:00   \n",
       "NQR456W    A002  R051  02-00-00          59 ST      BMT  08/27/2018  20:00:00   \n",
       "NQR456W    A002  R051  02-00-00          59 ST      BMT  08/28/2018  00:00:00   \n",
       "NQR456W    A002  R051  02-00-00          59 ST      BMT  08/28/2018  04:00:00   \n",
       "NQR456W    A002  R051  02-00-00          59 ST      BMT  08/28/2018  08:00:00   \n",
       "NQR456W    A002  R051  02-00-00          59 ST      BMT  08/28/2018  12:00:00   \n",
       "NQR456W    A002  R051  02-00-00          59 ST      BMT  08/28/2018  16:00:00   \n",
       "NQR456W    A002  R051  02-00-00          59 ST      BMT  08/28/2018  20:00:00   \n",
       "NQR456W    A002  R051  02-00-00          59 ST      BMT  08/29/2018  00:00:00   \n",
       "NQR456W    A002  R051  02-00-00          59 ST      BMT  08/29/2018  04:00:00   \n",
       "NQR456W    A002  R051  02-00-00          59 ST      BMT  08/29/2018  08:00:00   \n",
       "NQR456W    A002  R051  02-00-00          59 ST      BMT  08/29/2018  12:00:00   \n",
       "NQR456W    A002  R051  02-00-00          59 ST      BMT  08/29/2018  16:00:00   \n",
       "NQR456W    A002  R051  02-00-00          59 ST      BMT  08/29/2018  20:00:00   \n",
       "...         ...   ...       ...            ...      ...         ...       ...   \n",
       "R         TRAM2  R469  00-05-01  RIT-ROOSEVELT      RIT  08/27/2018  01:00:00   \n",
       "R         TRAM2  R469  00-05-01  RIT-ROOSEVELT      RIT  08/27/2018  05:00:00   \n",
       "R         TRAM2  R469  00-05-01  RIT-ROOSEVELT      RIT  08/27/2018  09:00:00   \n",
       "R         TRAM2  R469  00-05-01  RIT-ROOSEVELT      RIT  08/27/2018  13:00:00   \n",
       "R         TRAM2  R469  00-05-01  RIT-ROOSEVELT      RIT  08/27/2018  17:00:00   \n",
       "R         TRAM2  R469  00-05-01  RIT-ROOSEVELT      RIT  08/27/2018  21:00:00   \n",
       "R         TRAM2  R469  00-05-01  RIT-ROOSEVELT      RIT  08/28/2018  01:00:00   \n",
       "R         TRAM2  R469  00-05-01  RIT-ROOSEVELT      RIT  08/28/2018  05:00:00   \n",
       "R         TRAM2  R469  00-05-01  RIT-ROOSEVELT      RIT  08/28/2018  09:00:00   \n",
       "R         TRAM2  R469  00-05-01  RIT-ROOSEVELT      RIT  08/28/2018  13:00:00   \n",
       "R         TRAM2  R469  00-05-01  RIT-ROOSEVELT      RIT  08/28/2018  17:00:00   \n",
       "R         TRAM2  R469  00-05-01  RIT-ROOSEVELT      RIT  08/28/2018  21:00:00   \n",
       "R         TRAM2  R469  00-05-01  RIT-ROOSEVELT      RIT  08/29/2018  01:00:00   \n",
       "R         TRAM2  R469  00-05-01  RIT-ROOSEVELT      RIT  08/29/2018  05:00:00   \n",
       "R         TRAM2  R469  00-05-01  RIT-ROOSEVELT      RIT  08/29/2018  09:00:00   \n",
       "R         TRAM2  R469  00-05-01  RIT-ROOSEVELT      RIT  08/29/2018  13:00:00   \n",
       "R         TRAM2  R469  00-05-01  RIT-ROOSEVELT      RIT  08/29/2018  17:00:00   \n",
       "R         TRAM2  R469  00-05-01  RIT-ROOSEVELT      RIT  08/29/2018  21:00:00   \n",
       "R         TRAM2  R469  00-05-01  RIT-ROOSEVELT      RIT  08/30/2018  01:00:00   \n",
       "R         TRAM2  R469  00-05-01  RIT-ROOSEVELT      RIT  08/30/2018  05:00:00   \n",
       "R         TRAM2  R469  00-05-01  RIT-ROOSEVELT      RIT  08/30/2018  09:00:00   \n",
       "R         TRAM2  R469  00-05-01  RIT-ROOSEVELT      RIT  08/30/2018  13:00:00   \n",
       "R         TRAM2  R469  00-05-01  RIT-ROOSEVELT      RIT  08/30/2018  17:00:00   \n",
       "R         TRAM2  R469  00-05-01  RIT-ROOSEVELT      RIT  08/30/2018  21:00:00   \n",
       "R         TRAM2  R469  00-05-01  RIT-ROOSEVELT      RIT  08/31/2018  01:00:00   \n",
       "R         TRAM2  R469  00-05-01  RIT-ROOSEVELT      RIT  08/31/2018  05:00:00   \n",
       "R         TRAM2  R469  00-05-01  RIT-ROOSEVELT      RIT  08/31/2018  09:00:00   \n",
       "R         TRAM2  R469  00-05-01  RIT-ROOSEVELT      RIT  08/31/2018  13:00:00   \n",
       "R         TRAM2  R469  00-05-01  RIT-ROOSEVELT      RIT  08/31/2018  17:00:00   \n",
       "R         TRAM2  R469  00-05-01  RIT-ROOSEVELT      RIT  08/31/2018  21:00:00   \n",
       "\n",
       "             DESC  ENTRIES  \\\n",
       "LINENAME                     \n",
       "NQR456W   REGULAR  6736067   \n",
       "NQR456W   REGULAR  6736087   \n",
       "NQR456W   REGULAR  6736105   \n",
       "NQR456W   REGULAR  6736180   \n",
       "NQR456W   REGULAR  6736349   \n",
       "NQR456W   REGULAR  6736562   \n",
       "NQR456W   REGULAR  6736683   \n",
       "NQR456W   REGULAR  6736696   \n",
       "NQR456W   REGULAR  6736705   \n",
       "NQR456W   REGULAR  6736746   \n",
       "NQR456W   REGULAR  6736873   \n",
       "NQR456W   REGULAR  6737067   \n",
       "NQR456W   REGULAR  6737136   \n",
       "NQR456W   REGULAR  6737146   \n",
       "NQR456W   REGULAR  6737169   \n",
       "NQR456W   REGULAR  6737301   \n",
       "NQR456W   REGULAR  6737553   \n",
       "NQR456W   REGULAR  6738257   \n",
       "NQR456W   REGULAR  6738430   \n",
       "NQR456W   REGULAR  6738442   \n",
       "NQR456W   REGULAR  6738474   \n",
       "NQR456W   REGULAR  6738621   \n",
       "NQR456W   REGULAR  6738886   \n",
       "NQR456W   REGULAR  6739630   \n",
       "NQR456W   REGULAR  6739804   \n",
       "NQR456W   REGULAR  6739812   \n",
       "NQR456W   REGULAR  6739847   \n",
       "NQR456W   REGULAR  6739986   \n",
       "NQR456W   REGULAR  6740257   \n",
       "NQR456W   REGULAR  6740888   \n",
       "...           ...      ...   \n",
       "R         REGULAR     5554   \n",
       "R         REGULAR     5554   \n",
       "R         REGULAR     5554   \n",
       "R         REGULAR     5554   \n",
       "R         REGULAR     5554   \n",
       "R         REGULAR     5554   \n",
       "R         REGULAR     5554   \n",
       "R         REGULAR     5554   \n",
       "R         REGULAR     5554   \n",
       "R         REGULAR     5554   \n",
       "R         REGULAR     5554   \n",
       "R         REGULAR     5554   \n",
       "R         REGULAR     5554   \n",
       "R         REGULAR     5554   \n",
       "R         REGULAR     5554   \n",
       "R         REGULAR     5554   \n",
       "R         REGULAR     5554   \n",
       "R         REGULAR     5554   \n",
       "R         REGULAR     5554   \n",
       "R         REGULAR     5554   \n",
       "R         REGULAR     5554   \n",
       "R         REGULAR     5554   \n",
       "R         REGULAR     5554   \n",
       "R         REGULAR     5554   \n",
       "R         REGULAR     5554   \n",
       "R         REGULAR     5554   \n",
       "R         REGULAR     5554   \n",
       "R         REGULAR     5554   \n",
       "R         REGULAR     5554   \n",
       "R         REGULAR     5554   \n",
       "\n",
       "          EXITS                                                                 \n",
       "LINENAME                                                                        \n",
       "NQR456W                                             2283184                     \n",
       "NQR456W                                             2283188                     \n",
       "NQR456W                                             2283229                     \n",
       "NQR456W                                             2283314                     \n",
       "NQR456W                                             2283384                     \n",
       "NQR456W                                             2283425                     \n",
       "NQR456W                                             2283460                     \n",
       "NQR456W                                             2283461                     \n",
       "NQR456W                                             2283483                     \n",
       "NQR456W                                             2283524                     \n",
       "NQR456W                                             2283587                     \n",
       "NQR456W                                             2283631                     \n",
       "NQR456W                                             2283656                     \n",
       "NQR456W                                             2283658                     \n",
       "NQR456W                                             2283736                     \n",
       "NQR456W                                             2283965                     \n",
       "NQR456W                                             2284025                     \n",
       "NQR456W                                             2284091                     \n",
       "NQR456W                                             2284121                     \n",
       "NQR456W                                             2284126                     \n",
       "NQR456W                                             2284216                     \n",
       "NQR456W                                             2284402                     \n",
       "NQR456W                                             2284425                     \n",
       "NQR456W                                             2284478                     \n",
       "NQR456W                                             2284508                     \n",
       "NQR456W                                             2284512                     \n",
       "NQR456W                                             2284600                     \n",
       "NQR456W                                             2284838                     \n",
       "NQR456W                                             2284896                     \n",
       "NQR456W                                             2284941                     \n",
       "...                                                     ...                     \n",
       "R                                                       348                     \n",
       "R                                                       348                     \n",
       "R                                                       348                     \n",
       "R                                                       348                     \n",
       "R                                                       348                     \n",
       "R                                                       348                     \n",
       "R                                                       348                     \n",
       "R                                                       348                     \n",
       "R                                                       348                     \n",
       "R                                                       348                     \n",
       "R                                                       348                     \n",
       "R                                                       348                     \n",
       "R                                                       348                     \n",
       "R                                                       348                     \n",
       "R                                                       348                     \n",
       "R                                                       348                     \n",
       "R                                                       348                     \n",
       "R                                                       348                     \n",
       "R                                                       348                     \n",
       "R                                                       348                     \n",
       "R                                                       348                     \n",
       "R                                                       348                     \n",
       "R                                                       348                     \n",
       "R                                                       348                     \n",
       "R                                                       348                     \n",
       "R                                                       348                     \n",
       "R                                                       348                     \n",
       "R                                                       348                     \n",
       "R                                                       348                     \n",
       "R                                                       348                     \n",
       "\n",
       "[197625 rows x 10 columns]>"
      ]
     },
     "execution_count": 4,
     "metadata": {},
     "output_type": "execute_result"
    }
   ],
   "source": [
    "df = df.set_index(\"LINENAME\")\n",
    "df.head#Your code here"
   ]
  },
  {
   "cell_type": "markdown",
   "metadata": {},
   "source": [
    "# Painstakingly change the index back"
   ]
  },
  {
   "cell_type": "code",
   "execution_count": 5,
   "metadata": {},
   "outputs": [
    {
     "data": {
      "text/html": [
       "<div>\n",
       "<style scoped>\n",
       "    .dataframe tbody tr th:only-of-type {\n",
       "        vertical-align: middle;\n",
       "    }\n",
       "\n",
       "    .dataframe tbody tr th {\n",
       "        vertical-align: top;\n",
       "    }\n",
       "\n",
       "    .dataframe thead th {\n",
       "        text-align: right;\n",
       "    }\n",
       "</style>\n",
       "<table border=\"1\" class=\"dataframe\">\n",
       "  <thead>\n",
       "    <tr style=\"text-align: right;\">\n",
       "      <th></th>\n",
       "      <th>LINENAME</th>\n",
       "      <th>C/A</th>\n",
       "      <th>UNIT</th>\n",
       "      <th>SCP</th>\n",
       "      <th>STATION</th>\n",
       "      <th>DIVISION</th>\n",
       "      <th>DATE</th>\n",
       "      <th>TIME</th>\n",
       "      <th>DESC</th>\n",
       "      <th>ENTRIES</th>\n",
       "      <th>EXITS</th>\n",
       "    </tr>\n",
       "  </thead>\n",
       "  <tbody>\n",
       "    <tr>\n",
       "      <th>0</th>\n",
       "      <td>NQR456W</td>\n",
       "      <td>A002</td>\n",
       "      <td>R051</td>\n",
       "      <td>02-00-00</td>\n",
       "      <td>59 ST</td>\n",
       "      <td>BMT</td>\n",
       "      <td>08/25/2018</td>\n",
       "      <td>00:00:00</td>\n",
       "      <td>REGULAR</td>\n",
       "      <td>6736067</td>\n",
       "      <td>2283184</td>\n",
       "    </tr>\n",
       "    <tr>\n",
       "      <th>1</th>\n",
       "      <td>NQR456W</td>\n",
       "      <td>A002</td>\n",
       "      <td>R051</td>\n",
       "      <td>02-00-00</td>\n",
       "      <td>59 ST</td>\n",
       "      <td>BMT</td>\n",
       "      <td>08/25/2018</td>\n",
       "      <td>04:00:00</td>\n",
       "      <td>REGULAR</td>\n",
       "      <td>6736087</td>\n",
       "      <td>2283188</td>\n",
       "    </tr>\n",
       "    <tr>\n",
       "      <th>2</th>\n",
       "      <td>NQR456W</td>\n",
       "      <td>A002</td>\n",
       "      <td>R051</td>\n",
       "      <td>02-00-00</td>\n",
       "      <td>59 ST</td>\n",
       "      <td>BMT</td>\n",
       "      <td>08/25/2018</td>\n",
       "      <td>08:00:00</td>\n",
       "      <td>REGULAR</td>\n",
       "      <td>6736105</td>\n",
       "      <td>2283229</td>\n",
       "    </tr>\n",
       "    <tr>\n",
       "      <th>3</th>\n",
       "      <td>NQR456W</td>\n",
       "      <td>A002</td>\n",
       "      <td>R051</td>\n",
       "      <td>02-00-00</td>\n",
       "      <td>59 ST</td>\n",
       "      <td>BMT</td>\n",
       "      <td>08/25/2018</td>\n",
       "      <td>12:00:00</td>\n",
       "      <td>REGULAR</td>\n",
       "      <td>6736180</td>\n",
       "      <td>2283314</td>\n",
       "    </tr>\n",
       "    <tr>\n",
       "      <th>4</th>\n",
       "      <td>NQR456W</td>\n",
       "      <td>A002</td>\n",
       "      <td>R051</td>\n",
       "      <td>02-00-00</td>\n",
       "      <td>59 ST</td>\n",
       "      <td>BMT</td>\n",
       "      <td>08/25/2018</td>\n",
       "      <td>16:00:00</td>\n",
       "      <td>REGULAR</td>\n",
       "      <td>6736349</td>\n",
       "      <td>2283384</td>\n",
       "    </tr>\n",
       "  </tbody>\n",
       "</table>\n",
       "</div>"
      ],
      "text/plain": [
       "  LINENAME   C/A  UNIT       SCP STATION DIVISION        DATE      TIME  \\\n",
       "0  NQR456W  A002  R051  02-00-00   59 ST      BMT  08/25/2018  00:00:00   \n",
       "1  NQR456W  A002  R051  02-00-00   59 ST      BMT  08/25/2018  04:00:00   \n",
       "2  NQR456W  A002  R051  02-00-00   59 ST      BMT  08/25/2018  08:00:00   \n",
       "3  NQR456W  A002  R051  02-00-00   59 ST      BMT  08/25/2018  12:00:00   \n",
       "4  NQR456W  A002  R051  02-00-00   59 ST      BMT  08/25/2018  16:00:00   \n",
       "\n",
       "      DESC  ENTRIES  \\\n",
       "0  REGULAR  6736067   \n",
       "1  REGULAR  6736087   \n",
       "2  REGULAR  6736105   \n",
       "3  REGULAR  6736180   \n",
       "4  REGULAR  6736349   \n",
       "\n",
       "   EXITS                                                                 \n",
       "0                                            2283184                     \n",
       "1                                            2283188                     \n",
       "2                                            2283229                     \n",
       "3                                            2283314                     \n",
       "4                                            2283384                     "
      ]
     },
     "execution_count": 5,
     "metadata": {},
     "output_type": "execute_result"
    }
   ],
   "source": [
    "df = df.reset_index()\n",
    "df.head()# Your code here"
   ]
  },
  {
   "cell_type": "markdown",
   "metadata": {},
   "source": [
    "## Create another column 'Num_Lines' that is a count of how many lines pass through a station. Then sort your dataframe by this column in descending order."
   ]
  },
  {
   "cell_type": "code",
   "execution_count": 12,
   "metadata": {},
   "outputs": [
    {
     "data": {
      "text/html": [
       "<div>\n",
       "<style scoped>\n",
       "    .dataframe tbody tr th:only-of-type {\n",
       "        vertical-align: middle;\n",
       "    }\n",
       "\n",
       "    .dataframe tbody tr th {\n",
       "        vertical-align: top;\n",
       "    }\n",
       "\n",
       "    .dataframe thead th {\n",
       "        text-align: right;\n",
       "    }\n",
       "</style>\n",
       "<table border=\"1\" class=\"dataframe\">\n",
       "  <thead>\n",
       "    <tr style=\"text-align: right;\">\n",
       "      <th></th>\n",
       "      <th>LINENAME</th>\n",
       "      <th>C/A</th>\n",
       "      <th>UNIT</th>\n",
       "      <th>SCP</th>\n",
       "      <th>STATION</th>\n",
       "      <th>DIVISION</th>\n",
       "      <th>DATE</th>\n",
       "      <th>TIME</th>\n",
       "      <th>DESC</th>\n",
       "      <th>ENTRIES</th>\n",
       "      <th>EXITS</th>\n",
       "      <th>Num_Lines</th>\n",
       "    </tr>\n",
       "  </thead>\n",
       "  <tbody>\n",
       "    <tr>\n",
       "      <th>0</th>\n",
       "      <td>NQR456W</td>\n",
       "      <td>A002</td>\n",
       "      <td>R051</td>\n",
       "      <td>02-00-00</td>\n",
       "      <td>59 ST</td>\n",
       "      <td>BMT</td>\n",
       "      <td>08/25/2018</td>\n",
       "      <td>00:00:00</td>\n",
       "      <td>REGULAR</td>\n",
       "      <td>6736067</td>\n",
       "      <td>2283184</td>\n",
       "      <td>7</td>\n",
       "    </tr>\n",
       "    <tr>\n",
       "      <th>1</th>\n",
       "      <td>NQR456W</td>\n",
       "      <td>A002</td>\n",
       "      <td>R051</td>\n",
       "      <td>02-00-00</td>\n",
       "      <td>59 ST</td>\n",
       "      <td>BMT</td>\n",
       "      <td>08/25/2018</td>\n",
       "      <td>04:00:00</td>\n",
       "      <td>REGULAR</td>\n",
       "      <td>6736087</td>\n",
       "      <td>2283188</td>\n",
       "      <td>7</td>\n",
       "    </tr>\n",
       "    <tr>\n",
       "      <th>2</th>\n",
       "      <td>NQR456W</td>\n",
       "      <td>A002</td>\n",
       "      <td>R051</td>\n",
       "      <td>02-00-00</td>\n",
       "      <td>59 ST</td>\n",
       "      <td>BMT</td>\n",
       "      <td>08/25/2018</td>\n",
       "      <td>08:00:00</td>\n",
       "      <td>REGULAR</td>\n",
       "      <td>6736105</td>\n",
       "      <td>2283229</td>\n",
       "      <td>7</td>\n",
       "    </tr>\n",
       "    <tr>\n",
       "      <th>3</th>\n",
       "      <td>NQR456W</td>\n",
       "      <td>A002</td>\n",
       "      <td>R051</td>\n",
       "      <td>02-00-00</td>\n",
       "      <td>59 ST</td>\n",
       "      <td>BMT</td>\n",
       "      <td>08/25/2018</td>\n",
       "      <td>12:00:00</td>\n",
       "      <td>REGULAR</td>\n",
       "      <td>6736180</td>\n",
       "      <td>2283314</td>\n",
       "      <td>7</td>\n",
       "    </tr>\n",
       "    <tr>\n",
       "      <th>4</th>\n",
       "      <td>NQR456W</td>\n",
       "      <td>A002</td>\n",
       "      <td>R051</td>\n",
       "      <td>02-00-00</td>\n",
       "      <td>59 ST</td>\n",
       "      <td>BMT</td>\n",
       "      <td>08/25/2018</td>\n",
       "      <td>16:00:00</td>\n",
       "      <td>REGULAR</td>\n",
       "      <td>6736349</td>\n",
       "      <td>2283384</td>\n",
       "      <td>7</td>\n",
       "    </tr>\n",
       "  </tbody>\n",
       "</table>\n",
       "</div>"
      ],
      "text/plain": [
       "  LINENAME   C/A  UNIT       SCP STATION DIVISION        DATE      TIME  \\\n",
       "0  NQR456W  A002  R051  02-00-00   59 ST      BMT  08/25/2018  00:00:00   \n",
       "1  NQR456W  A002  R051  02-00-00   59 ST      BMT  08/25/2018  04:00:00   \n",
       "2  NQR456W  A002  R051  02-00-00   59 ST      BMT  08/25/2018  08:00:00   \n",
       "3  NQR456W  A002  R051  02-00-00   59 ST      BMT  08/25/2018  12:00:00   \n",
       "4  NQR456W  A002  R051  02-00-00   59 ST      BMT  08/25/2018  16:00:00   \n",
       "\n",
       "      DESC  ENTRIES  \\\n",
       "0  REGULAR  6736067   \n",
       "1  REGULAR  6736087   \n",
       "2  REGULAR  6736105   \n",
       "3  REGULAR  6736180   \n",
       "4  REGULAR  6736349   \n",
       "\n",
       "   EXITS                                                                 \\\n",
       "0                                            2283184                      \n",
       "1                                            2283188                      \n",
       "2                                            2283229                      \n",
       "3                                            2283314                      \n",
       "4                                            2283384                      \n",
       "\n",
       "   Num_Lines  \n",
       "0          7  \n",
       "1          7  \n",
       "2          7  \n",
       "3          7  \n",
       "4          7  "
      ]
     },
     "execution_count": 12,
     "metadata": {},
     "output_type": "execute_result"
    }
   ],
   "source": [
    "df[\"Num_Lines\"] = df.LINENAME.map(lambda x: len(x))\n",
    "df.head()# Your code here"
   ]
  },
  {
   "cell_type": "markdown",
   "metadata": {},
   "source": [
    "## Write a function to clean a column name."
   ]
  },
  {
   "cell_type": "code",
   "execution_count": 13,
   "metadata": {},
   "outputs": [],
   "source": [
    "def clean(col_name):\n",
    "    cleaned = col_name.strip()#Your code here; whatever you want to do to col_name. Hint: think back to str methods.\n",
    "    return cleaned"
   ]
  },
  {
   "cell_type": "code",
   "execution_count": 14,
   "metadata": {},
   "outputs": [],
   "source": [
    "#This is a list comprehension. It applies your clean function to every item in the list.\n",
    "#We then reassign that to df.columns\n",
    "#You shouldn't have to change anything here.\n",
    "#Your function above should work appropriately here.\n",
    "df.columns = [clean(col) for col in df.columns] "
   ]
  },
  {
   "cell_type": "code",
   "execution_count": 15,
   "metadata": {},
   "outputs": [
    {
     "data": {
      "text/plain": [
       "Index(['LINENAME', 'C/A', 'UNIT', 'SCP', 'STATION', 'DIVISION', 'DATE', 'TIME',\n",
       "       'DESC', 'ENTRIES', 'EXITS', 'Num_Lines'],\n",
       "      dtype='object')"
      ]
     },
     "execution_count": 15,
     "metadata": {},
     "output_type": "execute_result"
    }
   ],
   "source": [
    "#Checking the output, we can see the results.\n",
    "df.columns"
   ]
  },
  {
   "cell_type": "markdown",
   "metadata": {},
   "source": [
    "## Compare subway traffic by day of the week. Display this as a graph."
   ]
  },
  {
   "cell_type": "code",
   "execution_count": 21,
   "metadata": {},
   "outputs": [
    {
     "data": {
      "text/plain": [
       "<matplotlib.axes._subplots.AxesSubplot at 0x7f05f62402e8>"
      ]
     },
     "execution_count": 21,
     "metadata": {},
     "output_type": "execute_result"
    },
    {
     "data": {
      "image/png": "[encoded data removed]",
      "text/plain": [
       "<Figure size 432x288 with 1 Axes>"
      ]
     },
     "metadata": {
      "needs_background": "light"
     },
     "output_type": "display_data"
    }
   ],
   "source": [
    "df.DATE =pd.to_datetime(df.DATE)\n",
    "df['Dayofweek'] = df.DATE.dt.dayofweek\n",
    "grouped = df.groupby('Dayofweek').sum()\n",
    "grouped.plot(kind ='barh')\n",
    "             #Your code here"
   ]
  },
  {
   "cell_type": "markdown",
   "metadata": {},
   "source": [
    "## Is there more subway traffic on a weekend or a weekday?    Be specific in comparing magnitudes."
   ]
  },
  {
   "cell_type": "code",
   "execution_count": 25,
   "metadata": {},
   "outputs": [
    {
     "ename": "AttributeError",
     "evalue": "'function' object has no attribute 'reset_index'",
     "output_type": "error",
     "traceback": [
      "\u001b[0;31m\u001b[0m",
      "\u001b[0;31mAttributeError\u001b[0mTraceback (most recent call last)",
      "\u001b[0;32m<ipython-input-25-efd82f1377a3>\u001b[0m in \u001b[0;36m<module>\u001b[0;34m()\u001b[0m\n\u001b[0;32m----> 1\u001b[0;31m \u001b[0mgrouped\u001b[0m\u001b[0;34m=\u001b[0m\u001b[0mgrouped\u001b[0m\u001b[0;34m.\u001b[0m\u001b[0mreset_index\u001b[0m\u001b[0;34m(\u001b[0m\u001b[0;34m)\u001b[0m\u001b[0;34m\u001b[0m\u001b[0m\n\u001b[0m\u001b[1;32m      2\u001b[0m \u001b[0mgrouped\u001b[0m\u001b[0;34m.\u001b[0m\u001b[0mhead\u001b[0m\u001b[0;34m(\u001b[0m\u001b[0;34m)\u001b[0m \u001b[0;31m#Your code here\u001b[0m\u001b[0;34m\u001b[0m\u001b[0m\n",
      "\u001b[0;31mAttributeError\u001b[0m: 'function' object has no attribute 'reset_index'"
     ]
    }
   ],
   "source": [
    "grouped=grouped.reset_index()\n",
    "grouped.head() #Your code here"
   ]
  },
  {
   "cell_type": "markdown",
   "metadata": {},
   "source": [
    "# Drop a couple of columns"
   ]
  },
  {
   "cell_type": "code",
   "execution_count": null,
   "metadata": {
    "collapsed": true
   },
   "outputs": [],
   "source": [
    "# Your code here"
   ]
  }
 ],
 "metadata": {
  "kernelspec": {
   "display_name": "Python 3",
   "language": "python",
   "name": "python3"
  },
  "language_info": {
   "codemirror_mode": {
    "name": "ipython",
    "version": 3
   },
   "file_extension": ".py",
   "mimetype": "text/x-python",
   "name": "python",
   "nbconvert_exporter": "python",
   "pygments_lexer": "ipython3",
   "version": "3.6.6"
  }
 },
 "nbformat": 4,
 "nbformat_minor": 2
}
